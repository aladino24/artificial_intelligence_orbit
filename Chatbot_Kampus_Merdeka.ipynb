{
  "nbformat": 4,
  "nbformat_minor": 0,
  "metadata": {
    "colab": {
      "provenance": [],
      "gpuType": "T4",
      "include_colab_link": true
    },
    "kernelspec": {
      "name": "python3",
      "display_name": "Python 3"
    },
    "language_info": {
      "name": "python"
    },
    "accelerator": "GPU"
  },
  "cells": [
    {
      "cell_type": "markdown",
      "metadata": {
        "id": "view-in-github",
        "colab_type": "text"
      },
      "source": [
        "<a href=\"https://colab.research.google.com/github/aladino24/artificial_intelligence_orbit/blob/main/Chatbot_Kampus_Merdeka.ipynb\" target=\"_parent\"><img src=\"https://colab.research.google.com/assets/colab-badge.svg\" alt=\"Open In Colab\"/></a>"
      ]
    },
    {
      "cell_type": "markdown",
      "source": [
        "# Download Dataset"
      ],
      "metadata": {
        "id": "MxktbWAsf5YL"
      }
    },
    {
      "cell_type": "code",
      "execution_count": null,
      "metadata": {
        "colab": {
          "base_uri": "https://localhost:8080/"
        },
        "id": "1VxwyuC9TqiH",
        "outputId": "876adead-c100-4e85-dcaf-a34b0adaee41"
      },
      "outputs": [
        {
          "output_type": "stream",
          "name": "stdout",
          "text": [
            "--2023-10-09 03:15:08--  https://raw.githubusercontent.com/fendy07/chatbot-AI/master/kampus_merdeka.json\n",
            "Resolving raw.githubusercontent.com (raw.githubusercontent.com)... 185.199.108.133, 185.199.109.133, 185.199.110.133, ...\n",
            "Connecting to raw.githubusercontent.com (raw.githubusercontent.com)|185.199.108.133|:443... connected.\n",
            "HTTP request sent, awaiting response... 200 OK\n",
            "Length: 16366 (16K) [text/plain]\n",
            "Saving to: ‘kampus_merdeka.json’\n",
            "\n",
            "kampus_merdeka.json 100%[===================>]  15.98K  --.-KB/s    in 0.001s  \n",
            "\n",
            "2023-10-09 03:15:08 (29.2 MB/s) - ‘kampus_merdeka.json’ saved [16366/16366]\n",
            "\n"
          ]
        }
      ],
      "source": [
        "!wget https://raw.githubusercontent.com/fendy07/chatbot-AI/master/kampus_merdeka.json"
      ]
    },
    {
      "cell_type": "code",
      "source": [
        "# Import Libraries\n",
        "import json\n",
        "import nltk\n",
        "import random\n",
        "import string\n",
        "import numpy as np\n",
        "import pandas as pd\n",
        "from nltk.stem import WordNetLemmatizer\n",
        "from tensorflow.keras.models import Model\n",
        "from sklearn.preprocessing import LabelEncoder\n",
        "from tensorflow.keras.preprocessing.text import Tokenizer\n",
        "from tensorflow.keras.layers import Input, Embedding, LSTM, Flatten, Dense, GlobalMaxPool1D\n",
        "from tensorflow.keras.preprocessing.sequence import pad_sequences"
      ],
      "metadata": {
        "id": "hw_pb_tWT1Ur"
      },
      "execution_count": null,
      "outputs": []
    },
    {
      "cell_type": "markdown",
      "source": [
        "# Download Packages"
      ],
      "metadata": {
        "id": "M5Fz2I-7f_Rk"
      }
    },
    {
      "cell_type": "code",
      "source": [
        "# package for tokenizing data\n",
        "nltk.download('punkt')\n",
        "\n",
        "# package for lemmatization\n",
        "nltk.download('wordnet')\n",
        "\n",
        "# package for multilingual wordnet\n",
        "nltk.download('omw-1.4')"
      ],
      "metadata": {
        "colab": {
          "base_uri": "https://localhost:8080/"
        },
        "id": "wdO8RauEVLu1",
        "outputId": "34fdda0e-3715-4cc7-8f5b-2e3117851876"
      },
      "execution_count": null,
      "outputs": [
        {
          "output_type": "stream",
          "name": "stderr",
          "text": [
            "[nltk_data] Downloading package punkt to /root/nltk_data...\n",
            "[nltk_data]   Unzipping tokenizers/punkt.zip.\n",
            "[nltk_data] Downloading package wordnet to /root/nltk_data...\n",
            "[nltk_data] Downloading package omw-1.4 to /root/nltk_data...\n"
          ]
        },
        {
          "output_type": "execute_result",
          "data": {
            "text/plain": [
              "True"
            ]
          },
          "metadata": {},
          "execution_count": 3
        }
      ]
    },
    {
      "cell_type": "markdown",
      "source": [
        "# 1. Read Data"
      ],
      "metadata": {
        "id": "kEuxQOB_gFGk"
      }
    },
    {
      "cell_type": "code",
      "source": [
        "# Importing the dataset\n",
        "# DO: Masukkan path file data kampus_merdeka.json\n",
        "with open(' ') as content:\n",
        "  data1 = json.load(content)\n",
        "\n",
        "# Mendapatkan semua data ke dalam list\n",
        "tags = []\n",
        "inputs = []\n",
        "responses = {}\n",
        "words = []\n",
        "classes = []\n",
        "documents = []\n",
        "ignore_words = ['?', '!']\n",
        "\n",
        "\n",
        "for intent in data1['intents']:\n",
        "  # Mengumpulkan semua response\n",
        "  responses[intent['tag']]= intent['responses']\n",
        "\n",
        "  # Mengumpulkan semua patterns dan tags\n",
        "  for lines in intent['patterns']:\n",
        "    inputs.append(lines)\n",
        "    tags.append(intent['tag'])\n",
        "\n",
        "    for pattern in intent['patterns']:\n",
        "      w = nltk.word_tokenize(pattern)\n",
        "      words.extend(w)\n",
        "\n",
        "\n",
        "# Konversi data json ke dalam dataframe\n",
        "data = pd.DataFrame({\"patterns\": inputs, \"tags\": tags})"
      ],
      "metadata": {
        "id": "FxwtHZLSXVE7"
      },
      "execution_count": null,
      "outputs": []
    },
    {
      "cell_type": "code",
      "source": [
        "# DO: Menampilkan data index ke-15 sampai 19\n",
        "data[15 : 20]"
      ],
      "metadata": {
        "colab": {
          "base_uri": "https://localhost:8080/",
          "height": 206
        },
        "id": "DHfsmMoaYMF2",
        "outputId": "9d662519-14c8-4848-de49-9441d45aba50"
      },
      "execution_count": null,
      "outputs": [
        {
          "output_type": "execute_result",
          "data": {
            "text/plain": [
              "                            patterns               tags\n",
              "15                 Apa itu KadekBot?           kadekbot\n",
              "16                   Siapa KadekBot?           kadekbot\n",
              "17                  Siapa pembuatmu?  pencipta_kadekbot\n",
              "18  Kadek, yang buat kamu siapa sih?  pencipta_kadekbot\n",
              "19          Siapa penciptamu, Kadek?  pencipta_kadekbot"
            ],
            "text/html": [
              "\n",
              "  <div id=\"df-f63e9ee1-ce35-493a-8977-a4163748d019\" class=\"colab-df-container\">\n",
              "    <div>\n",
              "<style scoped>\n",
              "    .dataframe tbody tr th:only-of-type {\n",
              "        vertical-align: middle;\n",
              "    }\n",
              "\n",
              "    .dataframe tbody tr th {\n",
              "        vertical-align: top;\n",
              "    }\n",
              "\n",
              "    .dataframe thead th {\n",
              "        text-align: right;\n",
              "    }\n",
              "</style>\n",
              "<table border=\"1\" class=\"dataframe\">\n",
              "  <thead>\n",
              "    <tr style=\"text-align: right;\">\n",
              "      <th></th>\n",
              "      <th>patterns</th>\n",
              "      <th>tags</th>\n",
              "    </tr>\n",
              "  </thead>\n",
              "  <tbody>\n",
              "    <tr>\n",
              "      <th>15</th>\n",
              "      <td>Apa itu KadekBot?</td>\n",
              "      <td>kadekbot</td>\n",
              "    </tr>\n",
              "    <tr>\n",
              "      <th>16</th>\n",
              "      <td>Siapa KadekBot?</td>\n",
              "      <td>kadekbot</td>\n",
              "    </tr>\n",
              "    <tr>\n",
              "      <th>17</th>\n",
              "      <td>Siapa pembuatmu?</td>\n",
              "      <td>pencipta_kadekbot</td>\n",
              "    </tr>\n",
              "    <tr>\n",
              "      <th>18</th>\n",
              "      <td>Kadek, yang buat kamu siapa sih?</td>\n",
              "      <td>pencipta_kadekbot</td>\n",
              "    </tr>\n",
              "    <tr>\n",
              "      <th>19</th>\n",
              "      <td>Siapa penciptamu, Kadek?</td>\n",
              "      <td>pencipta_kadekbot</td>\n",
              "    </tr>\n",
              "  </tbody>\n",
              "</table>\n",
              "</div>\n",
              "    <div class=\"colab-df-buttons\">\n",
              "\n",
              "  <div class=\"colab-df-container\">\n",
              "    <button class=\"colab-df-convert\" onclick=\"convertToInteractive('df-f63e9ee1-ce35-493a-8977-a4163748d019')\"\n",
              "            title=\"Convert this dataframe to an interactive table.\"\n",
              "            style=\"display:none;\">\n",
              "\n",
              "  <svg xmlns=\"http://www.w3.org/2000/svg\" height=\"24px\" viewBox=\"0 -960 960 960\">\n",
              "    <path d=\"M120-120v-720h720v720H120Zm60-500h600v-160H180v160Zm220 220h160v-160H400v160Zm0 220h160v-160H400v160ZM180-400h160v-160H180v160Zm440 0h160v-160H620v160ZM180-180h160v-160H180v160Zm440 0h160v-160H620v160Z\"/>\n",
              "  </svg>\n",
              "    </button>\n",
              "\n",
              "  <style>\n",
              "    .colab-df-container {\n",
              "      display:flex;\n",
              "      gap: 12px;\n",
              "    }\n",
              "\n",
              "    .colab-df-convert {\n",
              "      background-color: #E8F0FE;\n",
              "      border: none;\n",
              "      border-radius: 50%;\n",
              "      cursor: pointer;\n",
              "      display: none;\n",
              "      fill: #1967D2;\n",
              "      height: 32px;\n",
              "      padding: 0 0 0 0;\n",
              "      width: 32px;\n",
              "    }\n",
              "\n",
              "    .colab-df-convert:hover {\n",
              "      background-color: #E2EBFA;\n",
              "      box-shadow: 0px 1px 2px rgba(60, 64, 67, 0.3), 0px 1px 3px 1px rgba(60, 64, 67, 0.15);\n",
              "      fill: #174EA6;\n",
              "    }\n",
              "\n",
              "    .colab-df-buttons div {\n",
              "      margin-bottom: 4px;\n",
              "    }\n",
              "\n",
              "    [theme=dark] .colab-df-convert {\n",
              "      background-color: #3B4455;\n",
              "      fill: #D2E3FC;\n",
              "    }\n",
              "\n",
              "    [theme=dark] .colab-df-convert:hover {\n",
              "      background-color: #434B5C;\n",
              "      box-shadow: 0px 1px 3px 1px rgba(0, 0, 0, 0.15);\n",
              "      filter: drop-shadow(0px 1px 2px rgba(0, 0, 0, 0.3));\n",
              "      fill: #FFFFFF;\n",
              "    }\n",
              "  </style>\n",
              "\n",
              "    <script>\n",
              "      const buttonEl =\n",
              "        document.querySelector('#df-f63e9ee1-ce35-493a-8977-a4163748d019 button.colab-df-convert');\n",
              "      buttonEl.style.display =\n",
              "        google.colab.kernel.accessAllowed ? 'block' : 'none';\n",
              "\n",
              "      async function convertToInteractive(key) {\n",
              "        const element = document.querySelector('#df-f63e9ee1-ce35-493a-8977-a4163748d019');\n",
              "        const dataTable =\n",
              "          await google.colab.kernel.invokeFunction('convertToInteractive',\n",
              "                                                    [key], {});\n",
              "        if (!dataTable) return;\n",
              "\n",
              "        const docLinkHtml = 'Like what you see? Visit the ' +\n",
              "          '<a target=\"_blank\" href=https://colab.research.google.com/notebooks/data_table.ipynb>data table notebook</a>'\n",
              "          + ' to learn more about interactive tables.';\n",
              "        element.innerHTML = '';\n",
              "        dataTable['output_type'] = 'display_data';\n",
              "        await google.colab.output.renderOutput(dataTable, element);\n",
              "        const docLink = document.createElement('div');\n",
              "        docLink.innerHTML = docLinkHtml;\n",
              "        element.appendChild(docLink);\n",
              "      }\n",
              "    </script>\n",
              "  </div>\n",
              "\n",
              "\n",
              "<div id=\"df-5fe678ab-b4a8-48d3-b1e5-6b0bc91f2b60\">\n",
              "  <button class=\"colab-df-quickchart\" onclick=\"quickchart('df-5fe678ab-b4a8-48d3-b1e5-6b0bc91f2b60')\"\n",
              "            title=\"Suggest charts.\"\n",
              "            style=\"display:none;\">\n",
              "\n",
              "<svg xmlns=\"http://www.w3.org/2000/svg\" height=\"24px\"viewBox=\"0 0 24 24\"\n",
              "     width=\"24px\">\n",
              "    <g>\n",
              "        <path d=\"M19 3H5c-1.1 0-2 .9-2 2v14c0 1.1.9 2 2 2h14c1.1 0 2-.9 2-2V5c0-1.1-.9-2-2-2zM9 17H7v-7h2v7zm4 0h-2V7h2v10zm4 0h-2v-4h2v4z\"/>\n",
              "    </g>\n",
              "</svg>\n",
              "  </button>\n",
              "\n",
              "<style>\n",
              "  .colab-df-quickchart {\n",
              "      --bg-color: #E8F0FE;\n",
              "      --fill-color: #1967D2;\n",
              "      --hover-bg-color: #E2EBFA;\n",
              "      --hover-fill-color: #174EA6;\n",
              "      --disabled-fill-color: #AAA;\n",
              "      --disabled-bg-color: #DDD;\n",
              "  }\n",
              "\n",
              "  [theme=dark] .colab-df-quickchart {\n",
              "      --bg-color: #3B4455;\n",
              "      --fill-color: #D2E3FC;\n",
              "      --hover-bg-color: #434B5C;\n",
              "      --hover-fill-color: #FFFFFF;\n",
              "      --disabled-bg-color: #3B4455;\n",
              "      --disabled-fill-color: #666;\n",
              "  }\n",
              "\n",
              "  .colab-df-quickchart {\n",
              "    background-color: var(--bg-color);\n",
              "    border: none;\n",
              "    border-radius: 50%;\n",
              "    cursor: pointer;\n",
              "    display: none;\n",
              "    fill: var(--fill-color);\n",
              "    height: 32px;\n",
              "    padding: 0;\n",
              "    width: 32px;\n",
              "  }\n",
              "\n",
              "  .colab-df-quickchart:hover {\n",
              "    background-color: var(--hover-bg-color);\n",
              "    box-shadow: 0 1px 2px rgba(60, 64, 67, 0.3), 0 1px 3px 1px rgba(60, 64, 67, 0.15);\n",
              "    fill: var(--button-hover-fill-color);\n",
              "  }\n",
              "\n",
              "  .colab-df-quickchart-complete:disabled,\n",
              "  .colab-df-quickchart-complete:disabled:hover {\n",
              "    background-color: var(--disabled-bg-color);\n",
              "    fill: var(--disabled-fill-color);\n",
              "    box-shadow: none;\n",
              "  }\n",
              "\n",
              "  .colab-df-spinner {\n",
              "    border: 2px solid var(--fill-color);\n",
              "    border-color: transparent;\n",
              "    border-bottom-color: var(--fill-color);\n",
              "    animation:\n",
              "      spin 1s steps(1) infinite;\n",
              "  }\n",
              "\n",
              "  @keyframes spin {\n",
              "    0% {\n",
              "      border-color: transparent;\n",
              "      border-bottom-color: var(--fill-color);\n",
              "      border-left-color: var(--fill-color);\n",
              "    }\n",
              "    20% {\n",
              "      border-color: transparent;\n",
              "      border-left-color: var(--fill-color);\n",
              "      border-top-color: var(--fill-color);\n",
              "    }\n",
              "    30% {\n",
              "      border-color: transparent;\n",
              "      border-left-color: var(--fill-color);\n",
              "      border-top-color: var(--fill-color);\n",
              "      border-right-color: var(--fill-color);\n",
              "    }\n",
              "    40% {\n",
              "      border-color: transparent;\n",
              "      border-right-color: var(--fill-color);\n",
              "      border-top-color: var(--fill-color);\n",
              "    }\n",
              "    60% {\n",
              "      border-color: transparent;\n",
              "      border-right-color: var(--fill-color);\n",
              "    }\n",
              "    80% {\n",
              "      border-color: transparent;\n",
              "      border-right-color: var(--fill-color);\n",
              "      border-bottom-color: var(--fill-color);\n",
              "    }\n",
              "    90% {\n",
              "      border-color: transparent;\n",
              "      border-bottom-color: var(--fill-color);\n",
              "    }\n",
              "  }\n",
              "</style>\n",
              "\n",
              "  <script>\n",
              "    async function quickchart(key) {\n",
              "      const quickchartButtonEl =\n",
              "        document.querySelector('#' + key + ' button');\n",
              "      quickchartButtonEl.disabled = true;  // To prevent multiple clicks.\n",
              "      quickchartButtonEl.classList.add('colab-df-spinner');\n",
              "      try {\n",
              "        const charts = await google.colab.kernel.invokeFunction(\n",
              "            'suggestCharts', [key], {});\n",
              "      } catch (error) {\n",
              "        console.error('Error during call to suggestCharts:', error);\n",
              "      }\n",
              "      quickchartButtonEl.classList.remove('colab-df-spinner');\n",
              "      quickchartButtonEl.classList.add('colab-df-quickchart-complete');\n",
              "    }\n",
              "    (() => {\n",
              "      let quickchartButtonEl =\n",
              "        document.querySelector('#df-5fe678ab-b4a8-48d3-b1e5-6b0bc91f2b60 button');\n",
              "      quickchartButtonEl.style.display =\n",
              "        google.colab.kernel.accessAllowed ? 'block' : 'none';\n",
              "    })();\n",
              "  </script>\n",
              "</div>\n",
              "    </div>\n",
              "  </div>\n"
            ]
          },
          "metadata": {},
          "execution_count": 5
        }
      ]
    },
    {
      "cell_type": "markdown",
      "source": [
        "# 2. Data Preprocessing"
      ],
      "metadata": {
        "id": "JBmkSz-z_c9f"
      }
    },
    {
      "cell_type": "markdown",
      "source": [
        "## Removing Punctuation"
      ],
      "metadata": {
        "id": "YOsDNf-MgZCb"
      }
    },
    {
      "cell_type": "code",
      "source": [
        "# Character punctuation\n",
        "string.punctuation"
      ],
      "metadata": {
        "colab": {
          "base_uri": "https://localhost:8080/",
          "height": 35
        },
        "id": "bhR-a7l2gfVX",
        "outputId": "44a2a508-fcdd-4f6f-b0cb-91b8802f3b64"
      },
      "execution_count": null,
      "outputs": [
        {
          "output_type": "execute_result",
          "data": {
            "text/plain": [
              "'!\"#$%&\\'()*+,-./:;<=>?@[\\\\]^_`{|}~'"
            ],
            "application/vnd.google.colaboratory.intrinsic+json": {
              "type": "string"
            }
          },
          "metadata": {},
          "execution_count": 6
        }
      ]
    },
    {
      "cell_type": "code",
      "source": [
        "# Mengubah data ke format huruf kecil dan menghilangkan punctuation\n",
        "# DO: Masukkan kolom ['patterns'] untuk dilakukan punctuation\n",
        "data[''] = data[''].apply(lambda word:[letters.lower() for letters in word if letters not in string.punctuation])\n",
        "data[''] = data[''].apply(lambda word: ''.join(word))\n",
        "\n",
        "# Menampilkan hasil\n",
        "data"
      ],
      "metadata": {
        "id": "x9wifDYIcUoU"
      },
      "execution_count": null,
      "outputs": []
    },
    {
      "cell_type": "markdown",
      "source": [
        "## Tokenizer"
      ],
      "metadata": {
        "id": "r-ysSbG_sCcB"
      }
    },
    {
      "cell_type": "code",
      "source": [
        "# Tokenize the data\n",
        "# DO: Atur num_words sebanyak 2000\n",
        "tokenizer = Tokenizer(num_words=)\n",
        "\n",
        "# DO: Masukkan kolom patterns kedalam fit_on_texts\n",
        "tokenizer.fit_on_texts()\n",
        "# DO: Masukkan kolom patterns kedalam texts_to_sequences\n",
        "tokenized_data = tokenizer.texts_to_sequences()\n",
        "\n",
        "# Menampilkan data ke-15 sampai ke-20\n",
        "print('Sebelum dilakukan tokenisasi:\\n')\n",
        "print(data['patterns'][15 : 20])\n",
        "\n",
        "# Menampilkan hasil tokenisasi data ke-15 sampai ke-20\n",
        "print('\\n\\nSesudah dilakukan tokenisasi:\\n')\n",
        "print(tokenized_data[15 : 20])"
      ],
      "metadata": {
        "id": "DPMIe1TAcsx6"
      },
      "execution_count": null,
      "outputs": []
    },
    {
      "cell_type": "markdown",
      "source": [
        "## Padding"
      ],
      "metadata": {
        "id": "-YQmbttXsgyL"
      }
    },
    {
      "cell_type": "code",
      "source": [
        "# Melakukan padding terhadap hasil tokenisasi\n",
        "# DO: Masukkan hasil tokenisasi kedalam pad_sequences\n",
        "x_train = pad_sequences()\n",
        "\n",
        "# Menampilkan hasil padding\n",
        "print('Hasil padding:\\n')\n",
        "print(x_train[15:20])"
      ],
      "metadata": {
        "colab": {
          "base_uri": "https://localhost:8080/"
        },
        "id": "LMv9txLHc74x",
        "outputId": "e3cf3e66-bbc2-4365-b6af-71d4e31b0f49"
      },
      "execution_count": null,
      "outputs": [
        {
          "output_type": "stream",
          "name": "stdout",
          "text": [
            "Hasil padding:\n",
            "\n",
            "[[ 0  0  0  0  0  0  0  1  6 32]\n",
            " [ 0  0  0  0  0  0  0  0 29 32]\n",
            " [ 0  0  0  0  0  0  0  0 29 55]\n",
            " [ 0  0  0  0 33 21 56 57 29 58]\n",
            " [ 0  0  0  0  0  0  0 29 59 33]]\n"
          ]
        }
      ]
    },
    {
      "cell_type": "markdown",
      "source": [
        "## Encoding Label"
      ],
      "metadata": {
        "id": "PvK1S2Et0cXK"
      }
    },
    {
      "cell_type": "code",
      "source": [
        "# Encoding the label\n",
        "# DO: Panggil fungsi LabelEncoder()\n",
        "le =\n",
        "\n",
        "# DO: Masukkan kolom tags sebagai label data ke dalam fit_transform\n",
        "y_train = le.fit_transform()\n",
        "\n",
        "# Menampilkan label sebelum di-encoding\n",
        "print('Label sebelum di-encoding:\\n')\n",
        "print(data['tags'])\n",
        "\n",
        "# Menampilkan label setelah di-encoding\n",
        "print('\\n\\nLabel setelah di-encoding:\\n')\n",
        "print(y_train)"
      ],
      "metadata": {
        "colab": {
          "base_uri": "https://localhost:8080/"
        },
        "id": "9Rtlz1Q-dB7i",
        "outputId": "c9d825fe-a271-42fc-be99-014362561a26"
      },
      "execution_count": null,
      "outputs": [
        {
          "output_type": "stream",
          "name": "stdout",
          "text": [
            "Label sebelum di-encoding:\n",
            "\n",
            "0                         greeting\n",
            "1                         greeting\n",
            "2                         greeting\n",
            "3                         greeting\n",
            "4                         greeting\n",
            "                  ...             \n",
            "75                 penjelasan_PMMB\n",
            "76               persyaratan_IISMA\n",
            "77    periode_dan_pendaftaran_PMMB\n",
            "78                    manfaat_PMMB\n",
            "79                      mitra_PMMB\n",
            "Name: tags, Length: 80, dtype: object\n",
            "\n",
            "\n",
            "Label setelah di-encoding:\n",
            "\n",
            "[ 1  1  1  1  1  1  1  1  1  1  1  1  1  1  1  2  2 14 14 14  0  0  0  0\n",
            "  0  0  0  0  0 38 38 38 38 38 18 39 32 37 37 37 37 37 37 37 37 37 37 37\n",
            " 22 36 29  9 13 19 33 26  6 12 17 31 25  5 15 30 23  3 10 21 35 28  8 20\n",
            " 34 27  7 16 30 24  4 11]\n"
          ]
        }
      ]
    },
    {
      "cell_type": "markdown",
      "source": [
        "# 3. Modelling and Evaluation"
      ],
      "metadata": {
        "id": "IGAlfhRS_HO_"
      }
    },
    {
      "cell_type": "markdown",
      "source": [
        "## Defining Input and Output"
      ],
      "metadata": {
        "id": "Koeurj-Kob30"
      }
    },
    {
      "cell_type": "code",
      "source": [
        "# Menentukan input shape\n",
        "input_shape = x_train.shape[1]\n",
        "print('input shape:', input_shape)\n",
        "\n",
        "# Menentukan jumlah vocab\n",
        "vocabulary = len(tokenizer.word_index)\n",
        "print(\"number of unique words : \", vocabulary)\n",
        "\n",
        "# Menentukan panjang output\n",
        "output_length = le.classes_.shape[0]\n",
        "print(\"output length: \", output_length)"
      ],
      "metadata": {
        "colab": {
          "base_uri": "https://localhost:8080/"
        },
        "id": "tb-yjTvpdt9U",
        "outputId": "4cfb0cac-d36e-4093-e226-8fddfd62d358"
      },
      "execution_count": null,
      "outputs": [
        {
          "output_type": "stream",
          "name": "stdout",
          "text": [
            "input shape: 10\n",
            "number of unique words :  77\n",
            "output length:  40\n"
          ]
        }
      ]
    },
    {
      "cell_type": "markdown",
      "source": [
        "## Build Model"
      ],
      "metadata": {
        "id": "nyeCt9qGofEL"
      }
    },
    {
      "cell_type": "code",
      "source": [
        "# Membuat Input layer\n",
        "input = Input(shape=(input_shape,))\n",
        "\n",
        "# Membuat Hidden layer\n",
        "layer = Embedding(vocabulary+1,10)(input)\n",
        "layer = LSTM(10, return_sequences=True)(layer)\n",
        "layer = Flatten()(layer)\n",
        "\n",
        "# Membuat Output layer\n",
        "layer = Dense(output_length, activation=\"softmax\")(layer)\n",
        "\n",
        "# DO: Gabungkan input dan layer kedalam fungsi Model!\n",
        "model  = Model(,)\n",
        "\n",
        "# Compiling the model\n",
        "model.compile(loss=\"sparse_categorical_crossentropy\", optimizer='adam', metrics=['accuracy'])"
      ],
      "metadata": {
        "id": "coMud0Z9d3Xc"
      },
      "execution_count": null,
      "outputs": []
    },
    {
      "cell_type": "markdown",
      "source": [
        "## Training\n",
        "Data yang dibutuhkan untuk training adalah data hasil preprocessing dan data label hasil encoding"
      ],
      "metadata": {
        "id": "oT2xEOPJoo1c"
      }
    },
    {
      "cell_type": "code",
      "source": [
        "# Melakukan training\n",
        "# DO: Masukkan data yang akan ditraining dan atur epochs = 200!\n",
        "train = model.fit(,,)"
      ],
      "metadata": {
        "id": "0HZaI_BZeBce"
      },
      "execution_count": null,
      "outputs": []
    },
    {
      "cell_type": "markdown",
      "source": [
        "## Evaluation"
      ],
      "metadata": {
        "id": "aH-QpSLopI0M"
      }
    },
    {
      "cell_type": "code",
      "source": [
        "# Plot Akurasi\n",
        "plt.figure(figsize=(14, 5))\n",
        "plt.subplot(1, 2, 1)\n",
        "plt.plot(train.history['accuracy'],label='Training Set Accuracy')\n",
        "plt.legend(loc='lower right')\n",
        "plt.title('Accuracy')\n",
        "\n",
        "# Plot Loss\n",
        "plt.subplot(1, 2, 2)\n",
        "plt.plot(train.history['loss'],label='Training Set Loss')\n",
        "plt.legend(loc='upper right')\n",
        "plt.title('Loss')\n",
        "plt.show()"
      ],
      "metadata": {
        "id": "1u43PrmppERc"
      },
      "execution_count": null,
      "outputs": []
    },
    {
      "cell_type": "markdown",
      "source": [
        "# 4. Testing"
      ],
      "metadata": {
        "id": "j5p9LkAbf4AM"
      }
    },
    {
      "cell_type": "code",
      "source": [
        "from nltk.translate.gale_church import LanguageIndependent\n",
        "while True:\n",
        "  texts_p = []\n",
        "  prediction_input = input('Kamu : ')\n",
        "\n",
        "  # Menghapus punktuasi dan konversi ke huruf kecil\n",
        "  prediction_input = [letters.lower() for letters in prediction_input if letters not in string.punctuation]\n",
        "  prediction_input = ''.join(prediction_input)\n",
        "  texts_p.append(prediction_input)\n",
        "\n",
        "  # Tokenisasi dan Padding\n",
        "  prediction_input = tokenizer.texts_to_sequences(texts_p)\n",
        "  prediction_input = np.array(prediction_input).reshape(-1)\n",
        "  prediction_input = pad_sequences([prediction_input],input_shape)\n",
        "\n",
        "  # Mendapatkan hasil keluaran pada model\n",
        "  output = model.predict(prediction_input)\n",
        "  output = output.argmax()\n",
        "\n",
        "  # Menemukan respon sesuai data tag dan memainkan voice bot\n",
        "  response_tag = le.inverse_transform([output])[0]\n",
        "  print(\"Kadekbot : \", random.choice(responses[response_tag]))\n",
        "  print(\"=\"*60 + \"\\n\")\n",
        "\n",
        "  if response_tag == \"terimakasih\":\n",
        "    break"
      ],
      "metadata": {
        "colab": {
          "base_uri": "https://localhost:8080/"
        },
        "id": "4xM74F9aeEv3",
        "outputId": "5a161141-5594-491a-bb18-3bdeaf6571af"
      },
      "execution_count": null,
      "outputs": [
        {
          "output_type": "stream",
          "name": "stdout",
          "text": [
            "Kamu : selamat pagi\n",
            "1/1 [==============================] - 0s 356ms/step\n",
            "Dedecorins :  Halo! Saya Kadekbot, salam kenal ya! Mau tau tentang kampus merdeka, kan?\n",
            "============================================================\n",
            "\n",
            "greeting\n",
            "Kamu : apa itu kadekbot?\n",
            "1/1 [==============================] - 0s 18ms/step\n",
            "Dedecorins :  KadekBot itu adalah teman informasi kamu tentang Kampus Merdeka!\n",
            "============================================================\n",
            "\n",
            "kadekbot\n",
            "Kamu : apa itu kampus merdeka?\n",
            "1/1 [==============================] - 0s 19ms/step\n",
            "Dedecorins :  Kampus Merdeka merupakan kebijakan Menteri Pendidikan dan Kebudayaan Nadiem Makarim yang membebaskan mahasiswa untuk mengikuti kegiatan di luar program studinya selama 1 semester atau setara 20 sks dan paling lama 2 semester atau setara 40 sks.\n",
            "============================================================\n",
            "\n",
            "penjelasan_kampus_merdeka\n",
            "Kamu : bagaimana cara mengikuti kampus merdeka\n",
            "1/1 [==============================] - 0s 19ms/step\n",
            "Dedecorins :  Mau tau tentang apa nih?\n",
            "============================================================\n",
            "\n",
            "program_kampus_merdeka\n",
            "Kamu : cara mendaftar kampus merdeka\n",
            "1/1 [==============================] - 0s 18ms/step\n",
            "Dedecorins :  Mau tau tentang apa nih?\n",
            "============================================================\n",
            "\n",
            "program_kampus_merdeka\n",
            "Kamu : terima kasih\n",
            "1/1 [==============================] - 0s 18ms/step\n",
            "Dedecorins :  Dengan senang hati :)\n",
            "============================================================\n",
            "\n",
            "terimakasih\n"
          ]
        }
      ]
    }
  ]
}
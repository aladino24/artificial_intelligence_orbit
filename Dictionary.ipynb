{
  "nbformat": 4,
  "nbformat_minor": 0,
  "metadata": {
    "colab": {
      "provenance": [],
      "authorship_tag": "ABX9TyPHMKkNX3z+s7UkOIUyZo89",
      "include_colab_link": true
    },
    "kernelspec": {
      "name": "python3",
      "display_name": "Python 3"
    },
    "language_info": {
      "name": "python"
    }
  },
  "cells": [
    {
      "cell_type": "markdown",
      "metadata": {
        "id": "view-in-github",
        "colab_type": "text"
      },
      "source": [
        "<a href=\"https://colab.research.google.com/github/aladino24/artificial_intelligence_orbit/blob/main/Dictionary.ipynb\" target=\"_parent\"><img src=\"https://colab.research.google.com/assets/colab-badge.svg\" alt=\"Open In Colab\"/></a>"
      ]
    },
    {
      "cell_type": "code",
      "execution_count": 3,
      "metadata": {
        "colab": {
          "base_uri": "https://localhost:8080/"
        },
        "id": "ht740ZKKO-mq",
        "outputId": "b1de0f49-8c12-4440-9bcd-4725520dd816"
      },
      "outputs": [
        {
          "output_type": "stream",
          "name": "stdout",
          "text": [
            "{'India': 'ind', 'Indonesia': 'ina'}\n"
          ]
        }
      ],
      "source": [
        "kode_negara = {'India' : 'ind', 'Indonesia' : 'ina'}\n",
        "print(kode_negara)"
      ]
    },
    {
      "cell_type": "code",
      "source": [
        "# mengetahui tipe data\n",
        "print(type(kode_negara))"
      ],
      "metadata": {
        "colab": {
          "base_uri": "https://localhost:8080/"
        },
        "id": "qZ3WgTnkVcLo",
        "outputId": "160f7c98-4429-4a26-814e-a8b695e44a56"
      },
      "execution_count": 4,
      "outputs": [
        {
          "output_type": "stream",
          "name": "stdout",
          "text": [
            "<class 'dict'>\n"
          ]
        }
      ]
    },
    {
      "cell_type": "code",
      "source": [
        "# menampilkan value berdasarkan key\n",
        "print(kode_negara['India'])"
      ],
      "metadata": {
        "colab": {
          "base_uri": "https://localhost:8080/"
        },
        "id": "r59d2HUjWKdR",
        "outputId": "7f4e2de4-2a0e-47ef-edc0-8729a9e9f3dc"
      },
      "execution_count": 5,
      "outputs": [
        {
          "output_type": "stream",
          "name": "stdout",
          "text": [
            "ind\n"
          ]
        }
      ]
    }
  ]
}
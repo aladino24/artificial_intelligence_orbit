{
  "nbformat": 4,
  "nbformat_minor": 0,
  "metadata": {
    "colab": {
      "provenance": [],
      "authorship_tag": "ABX9TyORCsVy++FXq5hPTUfSDgib",
      "include_colab_link": true
    },
    "kernelspec": {
      "name": "python3",
      "display_name": "Python 3"
    },
    "language_info": {
      "name": "python"
    }
  },
  "cells": [
    {
      "cell_type": "markdown",
      "metadata": {
        "id": "view-in-github",
        "colab_type": "text"
      },
      "source": [
        "<a href=\"https://colab.research.google.com/github/aladino24/artificial_intelligence_orbit/blob/main/Dictionary.ipynb\" target=\"_parent\"><img src=\"https://colab.research.google.com/assets/colab-badge.svg\" alt=\"Open In Colab\"/></a>"
      ]
    },
    {
      "cell_type": "code",
      "execution_count": 2,
      "metadata": {
        "colab": {
          "base_uri": "https://localhost:8080/"
        },
        "id": "ht740ZKKO-mq",
        "outputId": "02cc84c5-6bc6-4b5a-bf61-7122136b1518"
      },
      "outputs": [
        {
          "output_type": "stream",
          "name": "stdout",
          "text": [
            "{'India': 'ind', 'Indonesia': 'ina'}\n"
          ]
        }
      ],
      "source": [
        "kode_negara = {'India' : 'ind', 'Indonesia' : 'ina'}\n",
        "print(kode_negara)"
      ]
    },
    {
      "cell_type": "code",
      "source": [
        "# mengetahui tipe data\n",
        "print(type(kode_negara))"
      ],
      "metadata": {
        "colab": {
          "base_uri": "https://localhost:8080/"
        },
        "id": "qZ3WgTnkVcLo",
        "outputId": "ebf795dd-8793-4207-b915-75d23beffaf3"
      },
      "execution_count": 3,
      "outputs": [
        {
          "output_type": "stream",
          "name": "stdout",
          "text": [
            "<class 'dict'>\n"
          ]
        }
      ]
    },
    {
      "cell_type": "code",
      "source": [
        "# menampilkan value berdasarkan key\n",
        "print(kode_negara['India'])"
      ],
      "metadata": {
        "colab": {
          "base_uri": "https://localhost:8080/"
        },
        "id": "r59d2HUjWKdR",
        "outputId": "d6a0635e-c6b5-4b88-d6b1-ff58cb7591bd"
      },
      "execution_count": 4,
      "outputs": [
        {
          "output_type": "stream",
          "name": "stdout",
          "text": [
            "ind\n"
          ]
        }
      ]
    },
    {
      "cell_type": "code",
      "source": [
        "# menambahkan jika belum ada dan update jika sudah ada\n",
        "kode_negara['China'] = 'chn'\n",
        "kode_negara['Indonesia'] = 'idn'\n",
        "kode_negara['Contoh'] = 'cpy'\n",
        "print(kode_negara)"
      ],
      "metadata": {
        "colab": {
          "base_uri": "https://localhost:8080/"
        },
        "id": "tbnmRH2wXYp7",
        "outputId": "a47b0bd1-aa4e-4114-9ebc-a66333f4f5b4"
      },
      "execution_count": 5,
      "outputs": [
        {
          "output_type": "stream",
          "name": "stdout",
          "text": [
            "{'India': 'ind', 'Indonesia': 'idn', 'China': 'chn', 'Contoh': 'cpy'}\n"
          ]
        }
      ]
    },
    {
      "cell_type": "code",
      "source": [
        "# menghapus dictionary\n",
        "del kode_negara['Contoh']\n",
        "print(kode_negara)"
      ],
      "metadata": {
        "colab": {
          "base_uri": "https://localhost:8080/"
        },
        "id": "UBPlyLaqYLqH",
        "outputId": "b65ed09b-7ff6-45fc-beb2-fd48552d79f5"
      },
      "execution_count": 6,
      "outputs": [
        {
          "output_type": "stream",
          "name": "stdout",
          "text": [
            "{'India': 'ind', 'Indonesia': 'idn', 'China': 'chn'}\n"
          ]
        }
      ]
    },
    {
      "cell_type": "code",
      "source": [
        "# menghitung jumlah elemen yang ada di dictionary\n",
        "print(len(kode_negara))"
      ],
      "metadata": {
        "colab": {
          "base_uri": "https://localhost:8080/"
        },
        "id": "m517PDYXY5yv",
        "outputId": "9d14aeda-1556-44b5-c800-f06ca25dea2f"
      },
      "execution_count": 7,
      "outputs": [
        {
          "output_type": "stream",
          "name": "stdout",
          "text": [
            "3\n"
          ]
        }
      ]
    },
    {
      "cell_type": "code",
      "source": [
        "# mencari apakah key tersebut ada dalam dictionary (return bool)\n",
        "print('India' in kode_negara)"
      ],
      "metadata": {
        "colab": {
          "base_uri": "https://localhost:8080/"
        },
        "id": "r8a6mRAM2ZCa",
        "outputId": "0a441c07-5ee7-47e1-d6d5-e59f60ef7d46"
      },
      "execution_count": 8,
      "outputs": [
        {
          "output_type": "stream",
          "name": "stdout",
          "text": [
            "True\n"
          ]
        }
      ]
    },
    {
      "cell_type": "code",
      "source": [
        "# menampilkan daftar key didalam dictionary\n",
        "kunci = kode_negara.keys()\n",
        "print(kunci)"
      ],
      "metadata": {
        "colab": {
          "base_uri": "https://localhost:8080/"
        },
        "id": "A3xPVCAR3I1v",
        "outputId": "ac07b840-2eb6-4cbd-e6b1-a1084d84fa91"
      },
      "execution_count": 9,
      "outputs": [
        {
          "output_type": "stream",
          "name": "stdout",
          "text": [
            "dict_keys(['India', 'Indonesia', 'China'])\n"
          ]
        }
      ]
    }
  ]
}
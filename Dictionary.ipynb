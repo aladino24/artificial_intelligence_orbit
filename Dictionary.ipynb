{
  "nbformat": 4,
  "nbformat_minor": 0,
  "metadata": {
    "colab": {
      "provenance": [],
      "authorship_tag": "ABX9TyMehpne07D8d2QkSPea6TXm",
      "include_colab_link": true
    },
    "kernelspec": {
      "name": "python3",
      "display_name": "Python 3"
    },
    "language_info": {
      "name": "python"
    }
  },
  "cells": [
    {
      "cell_type": "markdown",
      "metadata": {
        "id": "view-in-github",
        "colab_type": "text"
      },
      "source": [
        "<a href=\"https://colab.research.google.com/github/aladino24/artificial_intelligence_orbit/blob/main/Dictionary.ipynb\" target=\"_parent\"><img src=\"https://colab.research.google.com/assets/colab-badge.svg\" alt=\"Open In Colab\"/></a>"
      ]
    },
    {
      "cell_type": "code",
      "execution_count": 3,
      "metadata": {
        "colab": {
          "base_uri": "https://localhost:8080/"
        },
        "id": "ht740ZKKO-mq",
        "outputId": "b1de0f49-8c12-4440-9bcd-4725520dd816"
      },
      "outputs": [
        {
          "output_type": "stream",
          "name": "stdout",
          "text": [
            "{'India': 'ind', 'Indonesia': 'ina'}\n"
          ]
        }
      ],
      "source": [
        "kode_negara = {'India' : 'ind', 'Indonesia' : 'ina'}\n",
        "print(kode_negara)"
      ]
    },
    {
      "cell_type": "code",
      "source": [
        "# mengetahui tipe data\n",
        "print(type(kode_negara))"
      ],
      "metadata": {
        "colab": {
          "base_uri": "https://localhost:8080/"
        },
        "id": "qZ3WgTnkVcLo",
        "outputId": "160f7c98-4429-4a26-814e-a8b695e44a56"
      },
      "execution_count": 4,
      "outputs": [
        {
          "output_type": "stream",
          "name": "stdout",
          "text": [
            "<class 'dict'>\n"
          ]
        }
      ]
    },
    {
      "cell_type": "code",
      "source": [
        "# menampilkan value berdasarkan key\n",
        "print(kode_negara['India'])"
      ],
      "metadata": {
        "colab": {
          "base_uri": "https://localhost:8080/"
        },
        "id": "r59d2HUjWKdR",
        "outputId": "7f4e2de4-2a0e-47ef-edc0-8729a9e9f3dc"
      },
      "execution_count": 5,
      "outputs": [
        {
          "output_type": "stream",
          "name": "stdout",
          "text": [
            "ind\n"
          ]
        }
      ]
    },
    {
      "cell_type": "code",
      "source": [
        "# menambahkan jika belum ada dan update jika sudah ada\n",
        "kode_negara['China'] = 'chn'\n",
        "kode_negara['Indonesia'] = 'idn'\n",
        "kode_negara['Contoh'] = 'cpy'\n",
        "print(kode_negara)"
      ],
      "metadata": {
        "colab": {
          "base_uri": "https://localhost:8080/"
        },
        "id": "tbnmRH2wXYp7",
        "outputId": "52183cb0-224e-4749-ebcd-78db7f05fe99"
      },
      "execution_count": 10,
      "outputs": [
        {
          "output_type": "stream",
          "name": "stdout",
          "text": [
            "{'India': 'ind', 'Indonesia': 'idn', 'China': 'chn', 'Contoh': 'cpy'}\n"
          ]
        }
      ]
    },
    {
      "cell_type": "code",
      "source": [
        "# menghapus dictionary\n",
        "del kode_negara['Contoh']\n",
        "print(kode_negara)"
      ],
      "metadata": {
        "colab": {
          "base_uri": "https://localhost:8080/"
        },
        "id": "UBPlyLaqYLqH",
        "outputId": "b445066b-90c7-4537-c896-c85ffe0d41af"
      },
      "execution_count": 11,
      "outputs": [
        {
          "output_type": "stream",
          "name": "stdout",
          "text": [
            "{'India': 'ind', 'Indonesia': 'idn', 'China': 'chn'}\n"
          ]
        }
      ]
    }
  ]
}
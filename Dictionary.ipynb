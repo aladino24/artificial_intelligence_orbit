{
  "nbformat": 4,
  "nbformat_minor": 0,
  "metadata": {
    "colab": {
      "provenance": [],
      "authorship_tag": "ABX9TyNz3hsqwaLuEcmB1mnbj7zv",
      "include_colab_link": true
    },
    "kernelspec": {
      "name": "python3",
      "display_name": "Python 3"
    },
    "language_info": {
      "name": "python"
    }
  },
  "cells": [
    {
      "cell_type": "markdown",
      "metadata": {
        "id": "view-in-github",
        "colab_type": "text"
      },
      "source": [
        "<a href=\"https://colab.research.google.com/github/aladino24/artificial_intelligence_orbit/blob/main/Dictionary.ipynb\" target=\"_parent\"><img src=\"https://colab.research.google.com/assets/colab-badge.svg\" alt=\"Open In Colab\"/></a>"
      ]
    },
    {
      "cell_type": "code",
      "execution_count": null,
      "metadata": {
        "colab": {
          "base_uri": "https://localhost:8080/"
        },
        "id": "ht740ZKKO-mq",
        "outputId": "02cc84c5-6bc6-4b5a-bf61-7122136b1518"
      },
      "outputs": [
        {
          "output_type": "stream",
          "name": "stdout",
          "text": [
            "{'India': 'ind', 'Indonesia': 'ina'}\n"
          ]
        }
      ],
      "source": [
        "kode_negara = {'India' : 'ind', 'Indonesia' : 'ina'}\n",
        "print(kode_negara)"
      ]
    },
    {
      "cell_type": "code",
      "source": [
        "# mengetahui tipe data\n",
        "print(type(kode_negara))"
      ],
      "metadata": {
        "colab": {
          "base_uri": "https://localhost:8080/"
        },
        "id": "qZ3WgTnkVcLo",
        "outputId": "ebf795dd-8793-4207-b915-75d23beffaf3"
      },
      "execution_count": null,
      "outputs": [
        {
          "output_type": "stream",
          "name": "stdout",
          "text": [
            "<class 'dict'>\n"
          ]
        }
      ]
    },
    {
      "cell_type": "code",
      "source": [
        "# menampilkan value berdasarkan key\n",
        "print(kode_negara['India'])"
      ],
      "metadata": {
        "colab": {
          "base_uri": "https://localhost:8080/"
        },
        "id": "r59d2HUjWKdR",
        "outputId": "d6a0635e-c6b5-4b88-d6b1-ff58cb7591bd"
      },
      "execution_count": null,
      "outputs": [
        {
          "output_type": "stream",
          "name": "stdout",
          "text": [
            "ind\n"
          ]
        }
      ]
    },
    {
      "cell_type": "code",
      "source": [
        "# menambahkan jika belum ada dan update jika sudah ada\n",
        "kode_negara['China'] = 'chn'\n",
        "kode_negara['Indonesia'] = 'idn'\n",
        "kode_negara['Contoh'] = 'cpy'\n",
        "print(kode_negara)"
      ],
      "metadata": {
        "colab": {
          "base_uri": "https://localhost:8080/"
        },
        "id": "tbnmRH2wXYp7",
        "outputId": "a47b0bd1-aa4e-4114-9ebc-a66333f4f5b4"
      },
      "execution_count": null,
      "outputs": [
        {
          "output_type": "stream",
          "name": "stdout",
          "text": [
            "{'India': 'ind', 'Indonesia': 'idn', 'China': 'chn', 'Contoh': 'cpy'}\n"
          ]
        }
      ]
    },
    {
      "cell_type": "code",
      "source": [
        "# menghapus dictionary\n",
        "del kode_negara['Contoh']\n",
        "print(kode_negara)"
      ],
      "metadata": {
        "colab": {
          "base_uri": "https://localhost:8080/"
        },
        "id": "UBPlyLaqYLqH",
        "outputId": "b65ed09b-7ff6-45fc-beb2-fd48552d79f5"
      },
      "execution_count": null,
      "outputs": [
        {
          "output_type": "stream",
          "name": "stdout",
          "text": [
            "{'India': 'ind', 'Indonesia': 'idn', 'China': 'chn'}\n"
          ]
        }
      ]
    },
    {
      "cell_type": "code",
      "source": [
        "# menghitung jumlah elemen yang ada di dictionary\n",
        "print(len(kode_negara))"
      ],
      "metadata": {
        "colab": {
          "base_uri": "https://localhost:8080/"
        },
        "id": "m517PDYXY5yv",
        "outputId": "9d14aeda-1556-44b5-c800-f06ca25dea2f"
      },
      "execution_count": null,
      "outputs": [
        {
          "output_type": "stream",
          "name": "stdout",
          "text": [
            "3\n"
          ]
        }
      ]
    },
    {
      "cell_type": "code",
      "source": [
        "# mencari apakah key tersebut ada dalam dictionary (return bool)\n",
        "print('India' in kode_negara)"
      ],
      "metadata": {
        "colab": {
          "base_uri": "https://localhost:8080/"
        },
        "id": "r8a6mRAM2ZCa",
        "outputId": "0a441c07-5ee7-47e1-d6d5-e59f60ef7d46"
      },
      "execution_count": null,
      "outputs": [
        {
          "output_type": "stream",
          "name": "stdout",
          "text": [
            "True\n"
          ]
        }
      ]
    },
    {
      "cell_type": "code",
      "source": [
        "# menampilkan daftar key didalam dictionary\n",
        "kunci = kode_negara.keys()\n",
        "print(kunci)"
      ],
      "metadata": {
        "colab": {
          "base_uri": "https://localhost:8080/"
        },
        "id": "A3xPVCAR3I1v",
        "outputId": "ac07b840-2eb6-4cbd-e6b1-a1084d84fa91"
      },
      "execution_count": null,
      "outputs": [
        {
          "output_type": "stream",
          "name": "stdout",
          "text": [
            "dict_keys(['India', 'Indonesia', 'China'])\n"
          ]
        }
      ]
    },
    {
      "cell_type": "code",
      "source": [
        "# menampilkan daftar nilai(value) dalam dictionary\n",
        "nilai = kode_negara.values()\n",
        "print(nilai)"
      ],
      "metadata": {
        "colab": {
          "base_uri": "https://localhost:8080/"
        },
        "id": "a1Q2A5RP3mus",
        "outputId": "dc6cb79d-515f-462e-e7b2-c6ace46c43ad"
      },
      "execution_count": null,
      "outputs": [
        {
          "output_type": "stream",
          "name": "stdout",
          "text": [
            "dict_values(['ind', 'idn', 'chn'])\n"
          ]
        }
      ]
    },
    {
      "cell_type": "code",
      "source": [
        "# menampilkan key sekaligus valuenya\n",
        "data = kode_negara.items()\n",
        "print(data)"
      ],
      "metadata": {
        "colab": {
          "base_uri": "https://localhost:8080/"
        },
        "id": "lXTgUBzB4Sri",
        "outputId": "cf6008bf-b441-4399-db5b-43b744851d83"
      },
      "execution_count": 11,
      "outputs": [
        {
          "output_type": "stream",
          "name": "stdout",
          "text": [
            "dict_items([('India', 'ind'), ('Indonesia', 'idn'), ('China', 'chn')])\n"
          ]
        }
      ]
    },
    {
      "cell_type": "code",
      "source": [
        "# create nested dictionary\n",
        "daerah = {\n",
        "    'China' : 'Beijing',\n",
        "    'Indonesia' : {\n",
        "        'Jabar' : 'Bandung',\n",
        "        'Jateng' : 'Semarang',\n",
        "        'Jatim' : 'Surabaya'\n",
        "    },\n",
        "    'Jepang' : 'Tokyo'\n",
        "}\n",
        "\n",
        "print(daerah)"
      ],
      "metadata": {
        "colab": {
          "base_uri": "https://localhost:8080/"
        },
        "id": "uDvqu2NrmuJZ",
        "outputId": "bc5a20cd-2e38-4748-bb23-25217252adb6"
      },
      "execution_count": 3,
      "outputs": [
        {
          "output_type": "stream",
          "name": "stdout",
          "text": [
            "{'China': 'Beijing', 'Indonesia': {'Jabar': 'Bandung', 'Jateng': 'Semarang', 'Jatim': 'Surabaya'}, 'Jepang': 'Tokyo'}\n"
          ]
        }
      ]
    },
    {
      "cell_type": "code",
      "source": [
        "# menampilkan nested dictionary\n",
        "print(daerah['Indonesia']['Jabar'])"
      ],
      "metadata": {
        "colab": {
          "base_uri": "https://localhost:8080/"
        },
        "id": "53728yLKpdYX",
        "outputId": "fed708ec-6534-46fc-c3f2-2eac7a8c141d"
      },
      "execution_count": 4,
      "outputs": [
        {
          "output_type": "stream",
          "name": "stdout",
          "text": [
            "Bandung\n"
          ]
        }
      ]
    },
    {
      "cell_type": "code",
      "source": [
        "# mengcopy dictionary antar variabel\n",
        "data1 = {'nama' : 'Agus', 'Kelas' : 'Orion'}\n",
        "data2 = data1.copy()\n",
        "\n",
        "print(data2)"
      ],
      "metadata": {
        "colab": {
          "base_uri": "https://localhost:8080/"
        },
        "id": "ZernqdsdqCoG",
        "outputId": "f78df54d-e599-413b-cb04-ef816959d592"
      },
      "execution_count": 5,
      "outputs": [
        {
          "output_type": "stream",
          "name": "stdout",
          "text": [
            "{'nama': 'Agus', 'Kelas': 'Orion'}\n"
          ]
        }
      ]
    },
    {
      "cell_type": "code",
      "source": [
        "# mencari value dari key\n",
        "kelas = data1.get('Kelas')\n",
        "print(kelas)"
      ],
      "metadata": {
        "colab": {
          "base_uri": "https://localhost:8080/"
        },
        "id": "T2pZrAONqu-y",
        "outputId": "2ff8233e-63e9-4b76-b2d6-0e85bb2e2613"
      },
      "execution_count": 6,
      "outputs": [
        {
          "output_type": "stream",
          "name": "stdout",
          "text": [
            "Orion\n"
          ]
        }
      ]
    },
    {
      "cell_type": "code",
      "source": [
        "# update dictionary\n",
        "data1.update({'nilai' : 90, 'Kelas' : 'waluku','Hobi' : 'Membaca'})\n",
        "print(data1)"
      ],
      "metadata": {
        "colab": {
          "base_uri": "https://localhost:8080/"
        },
        "id": "19Cvs3tFrYJT",
        "outputId": "f6674e90-89c8-4c36-b3d6-99512186524d"
      },
      "execution_count": 8,
      "outputs": [
        {
          "output_type": "stream",
          "name": "stdout",
          "text": [
            "{'nama': 'Agus', 'Kelas': 'waluku', 'nilai': 90, 'Hobi': 'Membaca'}\n"
          ]
        }
      ]
    },
    {
      "cell_type": "code",
      "source": [
        "# menghapus data dictionary berdasarkan key\n",
        "data1.pop('Hobi')\n",
        "print(data1)"
      ],
      "metadata": {
        "colab": {
          "base_uri": "https://localhost:8080/"
        },
        "id": "aYr4g3O_r9_P",
        "outputId": "72b4d05e-088f-4ce0-9e08-fd773c167620"
      },
      "execution_count": 9,
      "outputs": [
        {
          "output_type": "stream",
          "name": "stdout",
          "text": [
            "{'nama': 'Agus', 'Kelas': 'waluku', 'nilai': 90}\n"
          ]
        }
      ]
    },
    {
      "cell_type": "code",
      "source": [
        "# menghapus elemen terakhir\n",
        "data1.popitem()\n",
        "print(data1)"
      ],
      "metadata": {
        "colab": {
          "base_uri": "https://localhost:8080/"
        },
        "id": "SlHDcHslsWrr",
        "outputId": "89df0c9e-758f-4db9-9d8c-8efd72da1331"
      },
      "execution_count": 10,
      "outputs": [
        {
          "output_type": "stream",
          "name": "stdout",
          "text": [
            "{'nama': 'Agus', 'Kelas': 'waluku'}\n"
          ]
        }
      ]
    },
    {
      "cell_type": "code",
      "source": [
        "# membersihkan atau menghapus semua data\n",
        "data1.clear()\n",
        "print(data1)"
      ],
      "metadata": {
        "colab": {
          "base_uri": "https://localhost:8080/"
        },
        "id": "OWJZ-eAasnnC",
        "outputId": "9f05368d-7a24-42bd-b13c-56bbbe468f00"
      },
      "execution_count": 11,
      "outputs": [
        {
          "output_type": "stream",
          "name": "stdout",
          "text": [
            "{}\n"
          ]
        }
      ]
    }
  ]
}